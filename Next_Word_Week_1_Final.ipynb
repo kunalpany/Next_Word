{
 "cells": [
  {
   "cell_type": "markdown",
   "metadata": {},
   "source": [
    "# LIBS"
   ]
  },
  {
   "cell_type": "code",
   "execution_count": 114,
   "metadata": {},
   "outputs": [],
   "source": [
    "import pandas as pd\n",
    "import numpy as np\n",
    "import re\n",
    "import nltk\n",
    "import os\n",
    "import spacy\n",
    "import copy\n",
    "import scipy\n",
    "import csv\n",
    "import pickle\n",
    "from wordcloud import WordCloud\n",
    "import matplotlib.pyplot as plt\n",
    "from PIL import Image\n",
    "from nltk.util import ngrams\n",
    "from nltk import word_tokenize\n",
    "from nltk.corpus import stopwords\n",
    "from string import punctuation\n",
    "from operator import itemgetter\n",
    "from collections import Counter\n",
    "nlp = spacy.load(\"en\")"
   ]
  },
  {
   "cell_type": "markdown",
   "metadata": {},
   "source": [
    "# IMPORT DATA FILES"
   ]
  },
  {
   "cell_type": "code",
   "execution_count": 124,
   "metadata": {},
   "outputs": [],
   "source": [
    "#add data files location/workingdirectory here\n",
    "\n",
    "def init_data(location=None):\n",
    "    counter=0\n",
    "    data=list()#################################################### list to store strings of txt file\n",
    "    if location==None:\n",
    "        location = os.getcwd()##################################### get current working directory location here    \n",
    "    for file in os.listdir(location):\n",
    "        try:\n",
    "            if file.endswith(\".txt\"):\n",
    "                counter+=1\n",
    "                with open(file,\"r\",encoding=\"utf-8\") as f:\n",
    "                    print(\"Counter {0} : {1}\".format(counter,file))\n",
    "                    data.append(f.read())\n",
    "        except Exception as e:\n",
    "            raise \"No files found\"\n",
    "    return data,counter"
   ]
  },
  {
   "cell_type": "markdown",
   "metadata": {},
   "source": [
    "# METHODS"
   ]
  },
  {
   "cell_type": "code",
   "execution_count": 125,
   "metadata": {},
   "outputs": [],
   "source": [
    "def cosine(a,b):\n",
    "    X_set=set(a)\n",
    "    Y_set=set(b)\n",
    "    l1 =[];l2 =[]\n",
    "    rvector = X_set.union(Y_set)  \n",
    "    for w in rvector: \n",
    "        if w in X_set: l1.append(1) # create a vector \n",
    "        else: l1.append(0) \n",
    "        if w in Y_set: l2.append(1) \n",
    "        else: l2.append(0) \n",
    "    c = 0\n",
    "    # cosine formula  \n",
    "    for i in range(len(rvector)): \n",
    "            c+= l1[i]*l2[i] \n",
    "    cosine = c / float((sum(l1)*sum(l2))**0.5)\n",
    "    return cosine"
   ]
  },
  {
   "cell_type": "markdown",
   "metadata": {},
   "source": [
    "#  "
   ]
  },
  {
   "cell_type": "markdown",
   "metadata": {},
   "source": [
    "def Next_Word(data=None,test=None):\n",
    "    if data==None or not data or test==None:\n",
    "        print(\"No data or sentence\")\n",
    "    else:\n",
    "        try:\n",
    "            test_text=test\n",
    "            test=nlp(test_text)\n",
    "            test_1=[t.text.lower() for t in test if t.pos_ not in ['PRON','ADV'] and re.match(r'[a-zA-Z]',t.text)]\n",
    "            test_l2=[list(ngrams(test_1,2))[-1]]\n",
    "            #_2gram=list()\n",
    "            _3gram=list()\n",
    "            for i in data:\n",
    "                #out=nlp(i)\n",
    "                #exclude=['']\n",
    "                #l1=[i.text.lower() for i in out if i.pos_ not in ['PRON','ADV'] and re.match(r'[a-zA-Z]',i.text)]\n",
    "                #_1gram=l1.copy()\n",
    "                #_2gram.extend(list(ngrams(l1,2)))\n",
    "                with open('Hash_Table.pickle', 'rb') as f:\n",
    "                    load_hash_table = pickle.load(f)\n",
    "                _3gram.extend(list(ngrams(l1,3)))\n",
    "                sim_mat=[[0.0 for i in range(len(test_l2))] for i in range(len(_3gram))]\n",
    "                for i in range(len(_3gram)):\n",
    "                    for j in range(len(test_l2)):\n",
    "                        flag=0\n",
    "                        for k in range(len(_3gram[i])-1):\n",
    "                            if _3gram[i][k]!=test_l2[j][k]:\n",
    "                                flag=1\n",
    "                        if flag!=1:\n",
    "                            cos=cosine(_3gram[i],test_l2[j])\n",
    "                            sim_mat[i][j]=cos\n",
    "            dic1={}\n",
    "            dic2={}\n",
    "            with open('Hash_Table.pickle', 'rb') as f:\n",
    "                load_hash_table = pickle.load(f)\n",
    "            for i in range(len(_3gram)):\n",
    "                for j in range(len(test_l2)):\n",
    "                    if sim_mat[i][j]!=0.0:\n",
    "                        dic1.update({(_3gram[i],test_l2[j]):sim_mat[i][j]})\n",
    "            print(\"Next Word\"+\"\\t\\t\\t\\t\\t\"+\"Probability\")\n",
    "            for i in dic1.keys():\n",
    "                dic2.update({i[0][-1]:Counter(_3gram)[i[0]]*dic1[i]/len(_3gram)})\n",
    "            for i in Counter(dic2).most_common(3):\n",
    "                print(\"{0}\\t\\t\\t\\t\\t{1}\".format(i[0],i[1]))\n",
    "            #for i in dic1.keys():\n",
    "                #print(\"{0}\\t\\t\\t\\t\\t{1}\".format(i[0][-1],Counter(_3gram)[i[0]]*dic1[i]/len(_3gram)))\n",
    "        except Exception as e:\n",
    "            raise e"
   ]
  },
  {
   "cell_type": "code",
   "execution_count": 138,
   "metadata": {},
   "outputs": [],
   "source": [
    "def Next_Word(test=None):\n",
    "    if data==None or not data or test==None:\n",
    "        print(\"No data or sentence\")\n",
    "    else:\n",
    "        try:\n",
    "            test_text=test\n",
    "            test=nlp(test_text)\n",
    "            test_1=[t.text.lower() for t in test if t.pos_ not in ['PRON','ADV'] and re.match(r'[a-zA-Z]',t.text)]\n",
    "            test_l2=[list(ngrams(test_1,2))[-1]]\n",
    "            _3gram=list()\n",
    "            with open('Hash_Table.pickle', 'rb') as f:\n",
    "                load_hash_table = pickle.load(f)\n",
    "            _3gram=[i for i in load_hash_table.keys()]\n",
    "            sim_mat=[[0.0 for i in range(len(test_l2))] for i in range(len(_3gram))]\n",
    "            for i in range(len(_3gram)):\n",
    "                for j in range(len(test_l2)):\n",
    "                    flag=0\n",
    "                    for k in range(len(_3gram[i])-1):\n",
    "                        if _3gram[i][k]!=test_l2[j][k]:\n",
    "                            flag=1\n",
    "                    if flag!=1:\n",
    "                        cos=cosine(_3gram[i],test_l2[j])\n",
    "                        sim_mat[i][j]=cos\n",
    "            dic1={}\n",
    "            dic2={}\n",
    "            with open('Hash_Table.pickle', 'rb') as f:\n",
    "                load_hash_table = pickle.load(f)\n",
    "            for i in range(len(_3gram)):\n",
    "                for j in range(len(test_l2)):\n",
    "                    if sim_mat[i][j]!=0.0:\n",
    "                        dic1.update({(_3gram[i],test_l2[j]):sim_mat[i][j]})\n",
    "            print(\"Next Word\"+\"\\t\\t\\t\\t\\t\"+\"Probability\")\n",
    "            for i in dic1.keys():\n",
    "                dic2.update({i[0][-1]:load_hash_table[i[0]]*dic1[i]/len(_3gram)})\n",
    "            for i in Counter(dic2).most_common(3):\n",
    "                print(\"{0}\\t\\t\\t\\t\\t{1}\".format(i[0],i[1]))\n",
    "            wc = WordCloud(background_color=\"white\",width=2000,height=2000, max_words=10,relative_scaling=0.5,normalize_plurals=False).generate_from_frequencies(dic2)\n",
    "            plt.imshow(wc)\n",
    "        except Exception as e:\n",
    "            raise e"
   ]
  },
  {
   "cell_type": "markdown",
   "metadata": {},
   "source": [
    "#  "
   ]
  },
  {
   "cell_type": "code",
   "execution_count": 150,
   "metadata": {},
   "outputs": [],
   "source": [
    "########################### RUN ONCE ONLY TO UPDATE TABLE IF NEW FILES ADDED TO CORPUS #########################################\n",
    "def build_hash_table(data=None,counter=None):\n",
    "    if data==None or (not data):\n",
    "        print(\"No data to build table\")\n",
    "    else:\n",
    "        try:\n",
    "            c=1\n",
    "            grams_hash = {}\n",
    "            for i in data:\n",
    "                print(\"Reading file {0} of {1}\".format(c,counter))\n",
    "                out=nlp(i)\n",
    "                exclude=['']\n",
    "                l1=[i.text.lower() for i in out if i.pos_ not in ['PRON','ADV'] and re.match(r'[a-zA-Z]',i.text)]\n",
    "                three_grams_list=list(ngrams(l1, 3))\n",
    "                for gram in three_grams_list:\n",
    "                    if gram not in grams_hash.keys():\n",
    "                        grams_hash.update({gram:1})\n",
    "                    else:\n",
    "                        gram_occurrences = grams_hash[gram]\n",
    "                        grams_hash.update({gram:gram_occurrences+1})\n",
    "                c+=1\n",
    "            #sorted_grams_hash=sorted(grams_hash.items(), key=itemgetter(1),reverse=True)\n",
    "            with open('Hash_Table.pickle', 'wb') as hashes:\n",
    "                pickle.dump(grams_hash, hashes, protocol=pickle.HIGHEST_PROTOCOL)\n",
    "        except Exception as e:\n",
    "            raise e\n",
    "        "
   ]
  },
  {
   "cell_type": "code",
   "execution_count": null,
   "metadata": {},
   "outputs": [],
   "source": []
  },
  {
   "cell_type": "code",
   "execution_count": 128,
   "metadata": {},
   "outputs": [
    {
     "name": "stdout",
     "output_type": "stream",
     "text": [
      "0\n"
     ]
    }
   ],
   "source": [
    "print(counter)"
   ]
  },
  {
   "cell_type": "markdown",
   "metadata": {},
   "source": [
    "# FOR TESTING ONLY"
   ]
  },
  {
   "cell_type": "markdown",
   "metadata": {},
   "source": [
    "# METHODS DEFINED\n",
    "#### -> init\\_data(foo)  : \"foo\" type:string, location of working directory; returns list of strings\n",
    "#### -> build\\_hash\\_table(foo) : \"foo\" type:list of corpus docs strings; writes key:value\\::token:count to file\n",
    "#### -> Next\\_Word(foo) : \"foo\" type:incomplete string to test; returns probability of next word "
   ]
  },
  {
   "cell_type": "code",
   "execution_count": null,
   "metadata": {},
   "outputs": [],
   "source": []
  },
  {
   "cell_type": "code",
   "execution_count": null,
   "metadata": {},
   "outputs": [],
   "source": []
  },
  {
   "cell_type": "markdown",
   "metadata": {},
   "source": [
    "$$TEST$$"
   ]
  },
  {
   "cell_type": "code",
   "execution_count": 129,
   "metadata": {},
   "outputs": [
    {
     "name": "stdout",
     "output_type": "stream",
     "text": [
      "Counter 1 : 11-0.txt\n",
      "Counter 2 : 1342-0.txt\n",
      "Counter 3 : 1661-0.txt\n",
      "Counter 4 : 7058-0.txt\n",
      "Counter 5 : Abraham Lincoln___Lincoln's Gettysburg Address, given November 19, 1863 - Copy.txt\n",
      "Counter 6 : Agatha Christie___The Secret Adversary.txt\n",
      "Counter 7 : Aldous Huxley___The Defeat of Youth and Other Poems.txt\n",
      "Counter 8 : Alexander Pope___The Poetical Works of Alexander Pope, Volume 2.txt\n",
      "Counter 9 : Alfred Russel Wallace___The Malay Archipelago, Volume 2.txt\n",
      "Counter 10 : Ambrose Bierce___Can Such Things Be_.txt\n",
      "Counter 11 : Andrew Lang___Tales of Troy and Greece - Copy.txt\n",
      "Counter 12 : Andrew Lang___The Lilac Fairy Book - Copy.txt\n",
      "Counter 13 : Andrew Lang___The Yellow Fairy Book - Copy.txt\n",
      "Counter 14 : Anthony Trollope___An Eye for an Eye - Copy.txt\n",
      "Counter 15 : Henry James___Madame de Mauves - Copy.txt\n",
      "Counter 16 : Henry James___The Bostonians, Volume 2 - Copy.txt\n",
      "Counter 17 : pg12553.txt\n",
      "Counter 18 : pg2964.txt\n",
      "Counter 19 : pg38054.txt\n",
      "Counter 20 : Walter de la Mare___The Listeners and Other Poems - Copy.txt\n",
      "Counter 21 : Washington Irving___Astoria - Copy.txt\n",
      "Counter 22 : Washington Irving___The Life of George Washington, Volume I - Copy.txt\n",
      "Counter 23 : Wilkie Collins___A Rogue's Life - Copy.txt\n",
      "Counter 24 : William Wymark Jacobs___Dialstone Lane - Copy.txt\n",
      "Counter 25 : William Wymark Jacobs___The Three Sisters, Night Watches, Part 6 - Copy.txt\n",
      "Counter 26 : William Wymark Jacobs___The Vigil, Night Watches, Part 8 - Copy.txt\n",
      "Counter 27 : William Wymark Jacobs___Three at Table, The Lady of the Barge and Others, Part 12 - Copy.txt\n",
      "Counter 28 : Winston Churchill___The Inside of the Cup, Complete - Copy.txt\n",
      "Counter 29 : Zane Grey___The Man of the Forest - Copy.txt\n"
     ]
    }
   ],
   "source": [
    "data=init_data();\n",
    "counter=data[1]\n",
    "data=data[0]"
   ]
  },
  {
   "cell_type": "code",
   "execution_count": 130,
   "metadata": {},
   "outputs": [],
   "source": [
    "data;"
   ]
  },
  {
   "cell_type": "code",
   "execution_count": 132,
   "metadata": {},
   "outputs": [
    {
     "name": "stdout",
     "output_type": "stream",
     "text": [
      "Reading file 1 of 29\n"
     ]
    }
   ],
   "source": [
    "build_hash_table(data,counter)"
   ]
  },
  {
   "cell_type": "code",
   "execution_count": 148,
   "metadata": {},
   "outputs": [
    {
     "name": "stdout",
     "output_type": "stream",
     "text": [
      "Next Word\t\t\t\t\tProbability\n",
      "to\t\t\t\t\t4.348204806206485e-06\n",
      "and\t\t\t\t\t3.1058605758617747e-06\n",
      "as\t\t\t\t\t3.1058605758617747e-06\n"
     ]
    },
    {
     "data": {
      "image/png": "[encoded data removed]",
      "text/plain": [
       "<Figure size 432x288 with 1 Axes>"
      ]
     },
     "metadata": {
      "needs_background": "light"
     },
     "output_type": "display_data"
    }
   ],
   "source": [
    "Next_Word(\"To be or not\")"
   ]
  },
  {
   "cell_type": "code",
   "execution_count": 145,
   "metadata": {},
   "outputs": [
    {
     "name": "stdout",
     "output_type": "stream",
     "text": [
      "Next Word\t\t\t\t\tProbability\n",
      "be\t\t\t\t\t0.00011553801342205804\n",
      "have\t\t\t\t\t2.1741024031032424e-05\n",
      "say\t\t\t\t\t1.1802270188274745e-05\n"
     ]
    },
    {
     "data": {
      "image/png": "[encoded data removed]",
      "text/plain": [
       "<Figure size 432x288 with 1 Axes>"
      ]
     },
     "metadata": {
      "needs_background": "light"
     },
     "output_type": "display_data"
    }
   ],
   "source": [
    "Next_Word(\"To be or not to\")"
   ]
  },
  {
   "cell_type": "code",
   "execution_count": 149,
   "metadata": {},
   "outputs": [
    {
     "name": "stdout",
     "output_type": "stream",
     "text": [
      "Next Word\t\t\t\t\tProbability\n",
      "a\t\t\t\t\t0.00014970247975653754\n",
      "the\t\t\t\t\t0.00010808394803998978\n",
      "in\t\t\t\t\t5.714783459585666e-05\n"
     ]
    },
    {
     "data": {
      "image/png": "[encoded data removed]",
      "text/plain": [
       "<Figure size 432x288 with 1 Axes>"
      ]
     },
     "metadata": {
      "needs_background": "light"
     },
     "output_type": "display_data"
    }
   ],
   "source": [
    "Next_Word(\"To be or not to be\")"
   ]
  },
  {
   "cell_type": "code",
   "execution_count": null,
   "metadata": {},
   "outputs": [],
   "source": []
  }
 ],
 "metadata": {
  "kernelspec": {
   "display_name": "Python 3",
   "language": "python",
   "name": "python3"
  },
  "language_info": {
   "codemirror_mode": {
    "name": "ipython",
    "version": 3
   },
   "file_extension": ".py",
   "mimetype": "text/x-python",
   "name": "python",
   "nbconvert_exporter": "python",
   "pygments_lexer": "ipython3",
   "version": "3.7.7"
  }
 },
 "nbformat": 4,
 "nbformat_minor": 4
}
